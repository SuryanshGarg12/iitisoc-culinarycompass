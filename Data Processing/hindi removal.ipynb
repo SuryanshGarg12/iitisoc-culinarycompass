{
 "cells": [
  {
   "cell_type": "code",
   "execution_count": 2,
   "id": "72554b94-9ac7-4bb0-af72-b26e1f1211f2",
   "metadata": {},
   "outputs": [
    {
     "name": "stdout",
     "output_type": "stream",
     "text": [
      "Requirement already satisfied: langdetect in c:\\users\\niyati mishra\\anaconda3\\lib\\site-packages (1.0.9)\n",
      "Requirement already satisfied: six in c:\\users\\niyati mishra\\anaconda3\\lib\\site-packages (from langdetect) (1.16.0)\n",
      "Note: you may need to restart the kernel to use updated packages.\n"
     ]
    }
   ],
   "source": [
    "pip install langdetect\n"
   ]
  },
  {
   "cell_type": "code",
   "execution_count": 3,
   "id": "f177fe68-13b7-458f-8b30-ccf78a02b027",
   "metadata": {},
   "outputs": [],
   "source": [
    "import pandas as pd\n",
    "import numpy as np \n",
    "\n",
    "from langdetect import detect"
   ]
  },
  {
   "cell_type": "code",
   "execution_count": null,
   "id": "162a983d-bbc9-42dd-bfd9-28e81c7c32bc",
   "metadata": {},
   "outputs": [],
   "source": [
    "df = pd.read_csv('IndianFoodDatasetCSV.csv')"
   ]
  },
  {
   "cell_type": "code",
   "execution_count": 16,
   "id": "e943319c-91e3-4edb-bf6d-27af24edf00d",
   "metadata": {},
   "outputs": [],
   "source": [
    "L = df.TranslatedIngredients.astype(str)\n",
    "K = []\n",
    "for i in L:\n",
    "    \n",
    "    K.append(detect(i))"
   ]
  },
  {
   "cell_type": "code",
   "execution_count": 5,
   "id": "946f1628-6197-4daa-8d57-20deb3381b6c",
   "metadata": {},
   "outputs": [
    {
     "data": {
      "text/plain": [
       "6871"
      ]
     },
     "execution_count": 5,
     "metadata": {},
     "output_type": "execute_result"
    }
   ],
   "source": [
    "len(K)"
   ]
  },
  {
   "cell_type": "code",
   "execution_count": 6,
   "id": "44fbbcbd-35d3-4c36-b209-2b3dd3479c41",
   "metadata": {},
   "outputs": [],
   "source": [
    "df['lang'] = K"
   ]
  },
  {
   "cell_type": "code",
   "execution_count": 7,
   "id": "3287ae9a-a42e-43fa-9204-43660258afcb",
   "metadata": {
    "scrolled": true
   },
   "outputs": [
    {
     "data": {
      "text/html": [
       "<div>\n",
       "<style scoped>\n",
       "    .dataframe tbody tr th:only-of-type {\n",
       "        vertical-align: middle;\n",
       "    }\n",
       "\n",
       "    .dataframe tbody tr th {\n",
       "        vertical-align: top;\n",
       "    }\n",
       "\n",
       "    .dataframe thead th {\n",
       "        text-align: right;\n",
       "    }\n",
       "</style>\n",
       "<table border=\"1\" class=\"dataframe\">\n",
       "  <thead>\n",
       "    <tr style=\"text-align: right;\">\n",
       "      <th></th>\n",
       "      <th>Srno</th>\n",
       "      <th>RecipeName</th>\n",
       "      <th>TranslatedRecipeName</th>\n",
       "      <th>Ingredients</th>\n",
       "      <th>TranslatedIngredients</th>\n",
       "      <th>PrepTimeInMins</th>\n",
       "      <th>CookTimeInMins</th>\n",
       "      <th>TotalTimeInMins</th>\n",
       "      <th>Servings</th>\n",
       "      <th>Cuisine</th>\n",
       "      <th>Course</th>\n",
       "      <th>Diet</th>\n",
       "      <th>Instructions</th>\n",
       "      <th>TranslatedInstructions</th>\n",
       "      <th>URL</th>\n",
       "      <th>lang</th>\n",
       "    </tr>\n",
       "  </thead>\n",
       "  <tbody>\n",
       "    <tr>\n",
       "      <th>6866</th>\n",
       "      <td>14073</td>\n",
       "      <td>गोअन मशरुम जकुटी रेसिपी - Goan Mushroom Xacuti...</td>\n",
       "      <td>Goan Mushroom Xacuti Recipe</td>\n",
       "      <td>20 बटन मशरुम,2 प्याज - काट ले,1 टमाटर - बारीक ...</td>\n",
       "      <td>20 बटन मशरुम,2 प्याज - काट ले,1 टमाटर - बारीक ...</td>\n",
       "      <td>15</td>\n",
       "      <td>45</td>\n",
       "      <td>60</td>\n",
       "      <td>4</td>\n",
       "      <td>Goan Recipes</td>\n",
       "      <td>Lunch</td>\n",
       "      <td>Vegetarian</td>\n",
       "      <td>गोअन मशरुम जकुटी रेसिपी बनाने के लिए सबसे पहले...</td>\n",
       "      <td>गोअन मशरुम जकुटी रेसिपी बनाने के लिए सबसे पहले...</td>\n",
       "      <td>https://www.archanaskitchen.com/goan-mushroom-...</td>\n",
       "      <td>hi</td>\n",
       "    </tr>\n",
       "    <tr>\n",
       "      <th>6867</th>\n",
       "      <td>14107</td>\n",
       "      <td>शकरकंदी और मेथी का पराठा रेसिपी - Sweet Potato...</td>\n",
       "      <td>Sweet Potato &amp; Methi Stuffed Paratha Recipe</td>\n",
       "      <td>1 बड़ा चम्मच तेल,1 कप गेहूं का आटा,नमक - स्वाद ...</td>\n",
       "      <td>1 बड़ा चम्मच तेल,1 कप गेहूं का आटा,नमक - स्वाद ...</td>\n",
       "      <td>30</td>\n",
       "      <td>60</td>\n",
       "      <td>90</td>\n",
       "      <td>4</td>\n",
       "      <td>North Indian Recipes</td>\n",
       "      <td>North Indian Breakfast</td>\n",
       "      <td>Diabetic Friendly</td>\n",
       "      <td>शकरकंदी और मेथी का पराठा रेसिपी बनाने के लिए स...</td>\n",
       "      <td>शकरकंदी और मेथी का पराठा रेसिपी बनाने के लिए स...</td>\n",
       "      <td>https://www.archanaskitchen.com/sweet-potato-m...</td>\n",
       "      <td>hi</td>\n",
       "    </tr>\n",
       "    <tr>\n",
       "      <th>6868</th>\n",
       "      <td>14165</td>\n",
       "      <td>Ullikadala Pulusu Recipe | Spring Onion Curry</td>\n",
       "      <td>Ullikadala Pulusu Recipe | Spring Onion Curry</td>\n",
       "      <td>150 grams Spring Onion (Bulb &amp; Greens) - chopp...</td>\n",
       "      <td>150 grams Spring Onion (Bulb &amp; Greens) - chopp...</td>\n",
       "      <td>5</td>\n",
       "      <td>10</td>\n",
       "      <td>15</td>\n",
       "      <td>2</td>\n",
       "      <td>Andhra</td>\n",
       "      <td>Side Dish</td>\n",
       "      <td>Vegetarian</td>\n",
       "      <td>To begin making Ullikadala Pulusu Recipe | Spr...</td>\n",
       "      <td>To begin making Ullikadala Pulusu Recipe | Spr...</td>\n",
       "      <td>https://www.archanaskitchen.com/ullikadala-pul...</td>\n",
       "      <td>en</td>\n",
       "    </tr>\n",
       "    <tr>\n",
       "      <th>6869</th>\n",
       "      <td>14167</td>\n",
       "      <td>Kashmiri Style Kokur Yakhni Recipe-Chicken Coo...</td>\n",
       "      <td>Kashmiri Style Kokur Yakhni Recipe-Chicken Coo...</td>\n",
       "      <td>1 kg Chicken - medium pieces,1/2 cup Mustard o...</td>\n",
       "      <td>1 kg Chicken - medium pieces,1/2 cup Mustard o...</td>\n",
       "      <td>30</td>\n",
       "      <td>45</td>\n",
       "      <td>75</td>\n",
       "      <td>4</td>\n",
       "      <td>Kashmiri</td>\n",
       "      <td>Lunch</td>\n",
       "      <td>Non Vegeterian</td>\n",
       "      <td>To begin making the Kashmiri Kokur Yakhni reci...</td>\n",
       "      <td>To begin making the Kashmiri Kokur Yakhni reci...</td>\n",
       "      <td>http://www.archanaskitchen.com/kashmiri-kokur-...</td>\n",
       "      <td>en</td>\n",
       "    </tr>\n",
       "    <tr>\n",
       "      <th>6870</th>\n",
       "      <td>14211</td>\n",
       "      <td>नवरंग दाल रेसिपी - Navrang Dal Recipe</td>\n",
       "      <td>Navrang Dal Recipe</td>\n",
       "      <td>2 बड़े चम्मच हरी मूंग दाल,2 बड़े चम्मच सफ़ेद उरद ...</td>\n",
       "      <td>2 बड़े चम्मच हरी मूंग दाल,2 बड़े चम्मच सफ़ेद उरद ...</td>\n",
       "      <td>10</td>\n",
       "      <td>30</td>\n",
       "      <td>40</td>\n",
       "      <td>4</td>\n",
       "      <td>North Indian Recipes</td>\n",
       "      <td>Lunch</td>\n",
       "      <td>High Protein Vegetarian</td>\n",
       "      <td>नवरंग दाल रेसिपी  बनाने के लिए सबसे पहले सारी ...</td>\n",
       "      <td>नवरंग दाल रेसिपी  बनाने के लिए सबसे पहले सारी ...</td>\n",
       "      <td>https://www.archanaskitchen.com/navrang-dal-re...</td>\n",
       "      <td>hi</td>\n",
       "    </tr>\n",
       "  </tbody>\n",
       "</table>\n",
       "</div>"
      ],
      "text/plain": [
       "       Srno                                         RecipeName  \\\n",
       "6866  14073  गोअन मशरुम जकुटी रेसिपी - Goan Mushroom Xacuti...   \n",
       "6867  14107  शकरकंदी और मेथी का पराठा रेसिपी - Sweet Potato...   \n",
       "6868  14165      Ullikadala Pulusu Recipe | Spring Onion Curry   \n",
       "6869  14167  Kashmiri Style Kokur Yakhni Recipe-Chicken Coo...   \n",
       "6870  14211              नवरंग दाल रेसिपी - Navrang Dal Recipe   \n",
       "\n",
       "                                   TranslatedRecipeName  \\\n",
       "6866                        Goan Mushroom Xacuti Recipe   \n",
       "6867        Sweet Potato & Methi Stuffed Paratha Recipe   \n",
       "6868      Ullikadala Pulusu Recipe | Spring Onion Curry   \n",
       "6869  Kashmiri Style Kokur Yakhni Recipe-Chicken Coo...   \n",
       "6870                                 Navrang Dal Recipe   \n",
       "\n",
       "                                            Ingredients  \\\n",
       "6866  20 बटन मशरुम,2 प्याज - काट ले,1 टमाटर - बारीक ...   \n",
       "6867  1 बड़ा चम्मच तेल,1 कप गेहूं का आटा,नमक - स्वाद ...   \n",
       "6868  150 grams Spring Onion (Bulb & Greens) - chopp...   \n",
       "6869  1 kg Chicken - medium pieces,1/2 cup Mustard o...   \n",
       "6870  2 बड़े चम्मच हरी मूंग दाल,2 बड़े चम्मच सफ़ेद उरद ...   \n",
       "\n",
       "                                  TranslatedIngredients  PrepTimeInMins  \\\n",
       "6866  20 बटन मशरुम,2 प्याज - काट ले,1 टमाटर - बारीक ...              15   \n",
       "6867  1 बड़ा चम्मच तेल,1 कप गेहूं का आटा,नमक - स्वाद ...              30   \n",
       "6868  150 grams Spring Onion (Bulb & Greens) - chopp...               5   \n",
       "6869  1 kg Chicken - medium pieces,1/2 cup Mustard o...              30   \n",
       "6870  2 बड़े चम्मच हरी मूंग दाल,2 बड़े चम्मच सफ़ेद उरद ...              10   \n",
       "\n",
       "      CookTimeInMins  TotalTimeInMins  Servings               Cuisine  \\\n",
       "6866              45               60         4          Goan Recipes   \n",
       "6867              60               90         4  North Indian Recipes   \n",
       "6868              10               15         2                Andhra   \n",
       "6869              45               75         4              Kashmiri   \n",
       "6870              30               40         4  North Indian Recipes   \n",
       "\n",
       "                      Course                     Diet  \\\n",
       "6866                   Lunch               Vegetarian   \n",
       "6867  North Indian Breakfast        Diabetic Friendly   \n",
       "6868               Side Dish               Vegetarian   \n",
       "6869                   Lunch           Non Vegeterian   \n",
       "6870                   Lunch  High Protein Vegetarian   \n",
       "\n",
       "                                           Instructions  \\\n",
       "6866  गोअन मशरुम जकुटी रेसिपी बनाने के लिए सबसे पहले...   \n",
       "6867  शकरकंदी और मेथी का पराठा रेसिपी बनाने के लिए स...   \n",
       "6868  To begin making Ullikadala Pulusu Recipe | Spr...   \n",
       "6869  To begin making the Kashmiri Kokur Yakhni reci...   \n",
       "6870  नवरंग दाल रेसिपी  बनाने के लिए सबसे पहले सारी ...   \n",
       "\n",
       "                                 TranslatedInstructions  \\\n",
       "6866  गोअन मशरुम जकुटी रेसिपी बनाने के लिए सबसे पहले...   \n",
       "6867  शकरकंदी और मेथी का पराठा रेसिपी बनाने के लिए स...   \n",
       "6868  To begin making Ullikadala Pulusu Recipe | Spr...   \n",
       "6869  To begin making the Kashmiri Kokur Yakhni reci...   \n",
       "6870  नवरंग दाल रेसिपी  बनाने के लिए सबसे पहले सारी ...   \n",
       "\n",
       "                                                    URL lang  \n",
       "6866  https://www.archanaskitchen.com/goan-mushroom-...   hi  \n",
       "6867  https://www.archanaskitchen.com/sweet-potato-m...   hi  \n",
       "6868  https://www.archanaskitchen.com/ullikadala-pul...   en  \n",
       "6869  http://www.archanaskitchen.com/kashmiri-kokur-...   en  \n",
       "6870  https://www.archanaskitchen.com/navrang-dal-re...   hi  "
      ]
     },
     "execution_count": 7,
     "metadata": {},
     "output_type": "execute_result"
    }
   ],
   "source": [
    "df.tail()"
   ]
  },
  {
   "cell_type": "code",
   "execution_count": 8,
   "id": "c99248c5-1d9d-4984-9746-748633a245f7",
   "metadata": {},
   "outputs": [],
   "source": [
    "df['lang'] = df.lang.apply(lambda x: 1 if x == 'en' else 0)"
   ]
  },
  {
   "cell_type": "code",
   "execution_count": 9,
   "id": "f3c55863-8b3f-4b78-8b42-ac3c254fe713",
   "metadata": {},
   "outputs": [
    {
     "data": {
      "text/plain": [
       "0       1\n",
       "1       1\n",
       "2       1\n",
       "3       1\n",
       "4       1\n",
       "       ..\n",
       "6866    0\n",
       "6867    0\n",
       "6868    1\n",
       "6869    1\n",
       "6870    0\n",
       "Name: lang, Length: 6871, dtype: int64"
      ]
     },
     "execution_count": 9,
     "metadata": {},
     "output_type": "execute_result"
    }
   ],
   "source": [
    "df.lang"
   ]
  },
  {
   "cell_type": "code",
   "execution_count": 10,
   "id": "59984ab9-4068-4bee-b2a9-d82def16d425",
   "metadata": {},
   "outputs": [],
   "source": [
    "df = df[df['lang'] != 0]"
   ]
  },
  {
   "cell_type": "code",
   "execution_count": 11,
   "id": "2f3f3ddd-6a51-41c1-b5e0-6f7fe3caef12",
   "metadata": {},
   "outputs": [
    {
     "data": {
      "text/plain": [
       "(6281,)"
      ]
     },
     "execution_count": 11,
     "metadata": {},
     "output_type": "execute_result"
    }
   ],
   "source": [
    "df.lang.shape"
   ]
  },
  {
   "cell_type": "code",
   "execution_count": 12,
   "id": "1ce754b2-c9ef-497e-975c-c8f7e03cf361",
   "metadata": {},
   "outputs": [
    {
     "data": {
      "text/html": [
       "<div>\n",
       "<style scoped>\n",
       "    .dataframe tbody tr th:only-of-type {\n",
       "        vertical-align: middle;\n",
       "    }\n",
       "\n",
       "    .dataframe tbody tr th {\n",
       "        vertical-align: top;\n",
       "    }\n",
       "\n",
       "    .dataframe thead th {\n",
       "        text-align: right;\n",
       "    }\n",
       "</style>\n",
       "<table border=\"1\" class=\"dataframe\">\n",
       "  <thead>\n",
       "    <tr style=\"text-align: right;\">\n",
       "      <th></th>\n",
       "      <th>Srno</th>\n",
       "      <th>RecipeName</th>\n",
       "      <th>TranslatedRecipeName</th>\n",
       "      <th>Ingredients</th>\n",
       "      <th>TranslatedIngredients</th>\n",
       "      <th>PrepTimeInMins</th>\n",
       "      <th>CookTimeInMins</th>\n",
       "      <th>TotalTimeInMins</th>\n",
       "      <th>Servings</th>\n",
       "      <th>Cuisine</th>\n",
       "      <th>Course</th>\n",
       "      <th>Diet</th>\n",
       "      <th>Instructions</th>\n",
       "      <th>TranslatedInstructions</th>\n",
       "      <th>URL</th>\n",
       "      <th>lang</th>\n",
       "    </tr>\n",
       "  </thead>\n",
       "  <tbody>\n",
       "    <tr>\n",
       "      <th>6863</th>\n",
       "      <td>14030</td>\n",
       "      <td>Saffron Paneer Peda Recipe</td>\n",
       "      <td>Saffron Paneer Peda Recipe</td>\n",
       "      <td>2 cups Paneer (Homemade Cottage Cheese) - crum...</td>\n",
       "      <td>2 cups Paneer (Homemade Cottage Cheese) - crum...</td>\n",
       "      <td>5</td>\n",
       "      <td>15</td>\n",
       "      <td>20</td>\n",
       "      <td>4</td>\n",
       "      <td>Indian</td>\n",
       "      <td>Dessert</td>\n",
       "      <td>Vegetarian</td>\n",
       "      <td>To begin making the Saffron Paneer Peda recipe...</td>\n",
       "      <td>To begin making the Saffron Paneer Peda recipe...</td>\n",
       "      <td>https://www.archanaskitchen.com/saffron-paneer...</td>\n",
       "      <td>1</td>\n",
       "    </tr>\n",
       "    <tr>\n",
       "      <th>6864</th>\n",
       "      <td>14038</td>\n",
       "      <td>Italian Arancini Rice Balls Recipe With Delici...</td>\n",
       "      <td>Italian Arancini Rice Balls Recipe With Delici...</td>\n",
       "      <td>1-1/2 cup Risotto - cooked risotto (recipe bel...</td>\n",
       "      <td>1-1/2 cup Risotto - cooked risotto (recipe bel...</td>\n",
       "      <td>10</td>\n",
       "      <td>90</td>\n",
       "      <td>100</td>\n",
       "      <td>3</td>\n",
       "      <td>Italian Recipes</td>\n",
       "      <td>Dinner</td>\n",
       "      <td>Vegetarian</td>\n",
       "      <td>To begin making the Italian Arancini Rice Ball...</td>\n",
       "      <td>To begin making the Italian Arancini Rice Ball...</td>\n",
       "      <td>http://www.archanaskitchen.com/italian-arancin...</td>\n",
       "      <td>1</td>\n",
       "    </tr>\n",
       "    <tr>\n",
       "      <th>6865</th>\n",
       "      <td>14045</td>\n",
       "      <td>Quinoa Phirnee Recipe (Quinoa Milk Pudding)</td>\n",
       "      <td>Quinoa Phirnee Recipe (Quinoa Milk Pudding)</td>\n",
       "      <td>1 cup Quinoa,3/4 cup Sugar,1 teaspoon Cardamom...</td>\n",
       "      <td>1 cup Quinoa,3/4 cup Sugar,1 teaspoon Cardamom...</td>\n",
       "      <td>10</td>\n",
       "      <td>25</td>\n",
       "      <td>35</td>\n",
       "      <td>2</td>\n",
       "      <td>Indian</td>\n",
       "      <td>Dessert</td>\n",
       "      <td>Vegetarian</td>\n",
       "      <td>To begin making Quinoa Phirnee Recipe, place a...</td>\n",
       "      <td>To begin making Quinoa Phirnee Recipe, place a...</td>\n",
       "      <td>https://www.archanaskitchen.com/quinoa-phirnee...</td>\n",
       "      <td>1</td>\n",
       "    </tr>\n",
       "    <tr>\n",
       "      <th>6868</th>\n",
       "      <td>14165</td>\n",
       "      <td>Ullikadala Pulusu Recipe | Spring Onion Curry</td>\n",
       "      <td>Ullikadala Pulusu Recipe | Spring Onion Curry</td>\n",
       "      <td>150 grams Spring Onion (Bulb &amp; Greens) - chopp...</td>\n",
       "      <td>150 grams Spring Onion (Bulb &amp; Greens) - chopp...</td>\n",
       "      <td>5</td>\n",
       "      <td>10</td>\n",
       "      <td>15</td>\n",
       "      <td>2</td>\n",
       "      <td>Andhra</td>\n",
       "      <td>Side Dish</td>\n",
       "      <td>Vegetarian</td>\n",
       "      <td>To begin making Ullikadala Pulusu Recipe | Spr...</td>\n",
       "      <td>To begin making Ullikadala Pulusu Recipe | Spr...</td>\n",
       "      <td>https://www.archanaskitchen.com/ullikadala-pul...</td>\n",
       "      <td>1</td>\n",
       "    </tr>\n",
       "    <tr>\n",
       "      <th>6869</th>\n",
       "      <td>14167</td>\n",
       "      <td>Kashmiri Style Kokur Yakhni Recipe-Chicken Coo...</td>\n",
       "      <td>Kashmiri Style Kokur Yakhni Recipe-Chicken Coo...</td>\n",
       "      <td>1 kg Chicken - medium pieces,1/2 cup Mustard o...</td>\n",
       "      <td>1 kg Chicken - medium pieces,1/2 cup Mustard o...</td>\n",
       "      <td>30</td>\n",
       "      <td>45</td>\n",
       "      <td>75</td>\n",
       "      <td>4</td>\n",
       "      <td>Kashmiri</td>\n",
       "      <td>Lunch</td>\n",
       "      <td>Non Vegeterian</td>\n",
       "      <td>To begin making the Kashmiri Kokur Yakhni reci...</td>\n",
       "      <td>To begin making the Kashmiri Kokur Yakhni reci...</td>\n",
       "      <td>http://www.archanaskitchen.com/kashmiri-kokur-...</td>\n",
       "      <td>1</td>\n",
       "    </tr>\n",
       "  </tbody>\n",
       "</table>\n",
       "</div>"
      ],
      "text/plain": [
       "       Srno                                         RecipeName  \\\n",
       "6863  14030                         Saffron Paneer Peda Recipe   \n",
       "6864  14038  Italian Arancini Rice Balls Recipe With Delici...   \n",
       "6865  14045        Quinoa Phirnee Recipe (Quinoa Milk Pudding)   \n",
       "6868  14165      Ullikadala Pulusu Recipe | Spring Onion Curry   \n",
       "6869  14167  Kashmiri Style Kokur Yakhni Recipe-Chicken Coo...   \n",
       "\n",
       "                                   TranslatedRecipeName  \\\n",
       "6863                         Saffron Paneer Peda Recipe   \n",
       "6864  Italian Arancini Rice Balls Recipe With Delici...   \n",
       "6865        Quinoa Phirnee Recipe (Quinoa Milk Pudding)   \n",
       "6868      Ullikadala Pulusu Recipe | Spring Onion Curry   \n",
       "6869  Kashmiri Style Kokur Yakhni Recipe-Chicken Coo...   \n",
       "\n",
       "                                            Ingredients  \\\n",
       "6863  2 cups Paneer (Homemade Cottage Cheese) - crum...   \n",
       "6864  1-1/2 cup Risotto - cooked risotto (recipe bel...   \n",
       "6865  1 cup Quinoa,3/4 cup Sugar,1 teaspoon Cardamom...   \n",
       "6868  150 grams Spring Onion (Bulb & Greens) - chopp...   \n",
       "6869  1 kg Chicken - medium pieces,1/2 cup Mustard o...   \n",
       "\n",
       "                                  TranslatedIngredients  PrepTimeInMins  \\\n",
       "6863  2 cups Paneer (Homemade Cottage Cheese) - crum...               5   \n",
       "6864  1-1/2 cup Risotto - cooked risotto (recipe bel...              10   \n",
       "6865  1 cup Quinoa,3/4 cup Sugar,1 teaspoon Cardamom...              10   \n",
       "6868  150 grams Spring Onion (Bulb & Greens) - chopp...               5   \n",
       "6869  1 kg Chicken - medium pieces,1/2 cup Mustard o...              30   \n",
       "\n",
       "      CookTimeInMins  TotalTimeInMins  Servings          Cuisine     Course  \\\n",
       "6863              15               20         4           Indian    Dessert   \n",
       "6864              90              100         3  Italian Recipes     Dinner   \n",
       "6865              25               35         2           Indian    Dessert   \n",
       "6868              10               15         2           Andhra  Side Dish   \n",
       "6869              45               75         4         Kashmiri      Lunch   \n",
       "\n",
       "                Diet                                       Instructions  \\\n",
       "6863      Vegetarian  To begin making the Saffron Paneer Peda recipe...   \n",
       "6864      Vegetarian  To begin making the Italian Arancini Rice Ball...   \n",
       "6865      Vegetarian  To begin making Quinoa Phirnee Recipe, place a...   \n",
       "6868      Vegetarian  To begin making Ullikadala Pulusu Recipe | Spr...   \n",
       "6869  Non Vegeterian  To begin making the Kashmiri Kokur Yakhni reci...   \n",
       "\n",
       "                                 TranslatedInstructions  \\\n",
       "6863  To begin making the Saffron Paneer Peda recipe...   \n",
       "6864  To begin making the Italian Arancini Rice Ball...   \n",
       "6865  To begin making Quinoa Phirnee Recipe, place a...   \n",
       "6868  To begin making Ullikadala Pulusu Recipe | Spr...   \n",
       "6869  To begin making the Kashmiri Kokur Yakhni reci...   \n",
       "\n",
       "                                                    URL  lang  \n",
       "6863  https://www.archanaskitchen.com/saffron-paneer...     1  \n",
       "6864  http://www.archanaskitchen.com/italian-arancin...     1  \n",
       "6865  https://www.archanaskitchen.com/quinoa-phirnee...     1  \n",
       "6868  https://www.archanaskitchen.com/ullikadala-pul...     1  \n",
       "6869  http://www.archanaskitchen.com/kashmiri-kokur-...     1  "
      ]
     },
     "execution_count": 12,
     "metadata": {},
     "output_type": "execute_result"
    }
   ],
   "source": [
    "df.tail()"
   ]
  },
  {
   "cell_type": "code",
   "execution_count": 17,
   "id": "925a92ea-4272-419e-93b2-84af73c4ce11",
   "metadata": {},
   "outputs": [
    {
     "data": {
      "text/plain": [
       "'6 Karela (Bitter Gourd/ Pavakkai) - deseeded,Salt - to taste,1 Onion - thinly sliced,3 tablespoon Gram flour (besan),2 teaspoons Turmeric powder (Haldi),1 tablespoon Red Chilli powder,2 teaspoons Cumin seeds (Jeera),1 tablespoon Coriander Powder (Dhania),1 tablespoon Amchur (Dry Mango Powder),Sunflower Oil - as required'"
      ]
     },
     "execution_count": 17,
     "metadata": {},
     "output_type": "execute_result"
    }
   ],
   "source": [
    "df.TranslatedIngredients.iloc[0]"
   ]
  },
  {
   "cell_type": "code",
   "execution_count": 123,
   "id": "497ccdb5-a286-4077-a533-b85199526109",
   "metadata": {},
   "outputs": [],
   "source": [
    "df.to_csv('df.csv', index=False)"
   ]
  },
  {
   "cell_type": "code",
   "execution_count": null,
   "id": "9959697b-35cb-4803-917d-f2de0f5b3b76",
   "metadata": {},
   "outputs": [],
   "source": []
  },
  {
   "cell_type": "code",
   "execution_count": null,
   "id": "29817546-d5ba-46f7-a96d-8c14dfea4e72",
   "metadata": {},
   "outputs": [],
   "source": []
  }
 ],
 "metadata": {
  "kernelspec": {
   "display_name": "Python 3 (ipykernel)",
   "language": "python",
   "name": "python3"
  },
  "language_info": {
   "codemirror_mode": {
    "name": "ipython",
    "version": 3
   },
   "file_extension": ".py",
   "mimetype": "text/x-python",
   "name": "python",
   "nbconvert_exporter": "python",
   "pygments_lexer": "ipython3",
   "version": "3.11.7"
  }
 },
 "nbformat": 4,
 "nbformat_minor": 5
}
